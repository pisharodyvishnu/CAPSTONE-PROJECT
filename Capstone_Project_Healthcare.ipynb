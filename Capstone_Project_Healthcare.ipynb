{
 "cells": [
  {
   "cell_type": "markdown",
   "id": "1c34e55e",
   "metadata": {},
   "source": [
    "# 🏥 Capstone Project - Healthcare Domain\n",
    "## Diabetes Readmission Prediction\n",
    "\n",
    "### Student: Vishnu  \n",
    "### Domain: Healthcare  \n",
    "### Project Objective:\n",
    "To predict hospital readmission in diabetic patients using machine learning techniques by analyzing patient demographics, treatment history, and admission details."
   ]
  },
  {
   "cell_type": "code",
   "execution_count": null,
   "id": "f9914e1a",
   "metadata": {},
   "outputs": [],
   "source": [
    "import pandas as pd\n",
    "import numpy as np\n",
    "from sklearn.model_selection import train_test_split\n",
    "from sklearn.preprocessing import LabelEncoder\n",
    "from sklearn.ensemble import RandomForestClassifier\n",
    "from sklearn.metrics import classification_report, confusion_matrix\n",
    "import matplotlib.pyplot as plt\n",
    "import seaborn as sns"
   ]
  },
  {
   "cell_type": "code",
   "execution_count": null,
   "id": "2349c16a",
   "metadata": {},
   "outputs": [],
   "source": [
    "# 📥 Load the dataset\n",
    "df = pd.read_csv(\"diabetic_data_cleaned.csv\")\n",
    "df.head()"
   ]
  },
  {
   "cell_type": "code",
   "execution_count": null,
   "id": "772744ed",
   "metadata": {},
   "outputs": [],
   "source": [
    "# 🎨 Encoding categorical variables\n",
    "label_encoders = {}\n",
    "for col in df.select_dtypes(include='object').columns:\n",
    "    le = LabelEncoder()\n",
    "    df[col] = le.fit_transform(df[col].astype(str))\n",
    "    label_encoders[col] = le\n",
    "df.head()"
   ]
  },
  {
   "cell_type": "code",
   "execution_count": null,
   "id": "95f81d91",
   "metadata": {},
   "outputs": [],
   "source": [
    "# 🧪 Feature selection and train-test split\n",
    "X = df.drop(columns=['readmitted', 'readmitted_binary'])\n",
    "y = df['readmitted_binary']\n",
    "X_train, X_test, y_train, y_test = train_test_split(X, y, test_size=0.2, random_state=42)"
   ]
  },
  {
   "cell_type": "code",
   "execution_count": null,
   "id": "8856908f",
   "metadata": {},
   "outputs": [],
   "source": [
    "# 🌲 Training the Random Forest model\n",
    "rf_model = RandomForestClassifier(n_estimators=100, random_state=42)\n",
    "rf_model.fit(X_train, y_train)"
   ]
  },
  {
   "cell_type": "code",
   "execution_count": null,
   "id": "34545ec8",
   "metadata": {},
   "outputs": [],
   "source": [
    "# 📊 Predictions and evaluation\n",
    "y_pred = rf_model.predict(X_test)\n",
    "print(\"Classification Report:\\n\", classification_report(y_test, y_pred))\n",
    "print(\"Confusion Matrix:\\n\", confusion_matrix(y_test, y_pred))"
   ]
  },
  {
   "cell_type": "code",
   "execution_count": null,
   "id": "93e62e60",
   "metadata": {},
   "outputs": [],
   "source": [
    "# 📉 Plot confusion matrix\n",
    "cm = confusion_matrix(y_test, y_pred)\n",
    "plt.figure(figsize=(6,4))\n",
    "sns.heatmap(cm, annot=True, fmt='d', cmap='Blues')\n",
    "plt.title(\"Confusion Matrix\")\n",
    "plt.xlabel(\"Predicted\")\n",
    "plt.ylabel(\"Actual\")\n",
    "plt.show()"
   ]
  },
  {
   "cell_type": "markdown",
   "id": "3c1e3818",
   "metadata": {},
   "source": [
    "### ✅ Conclusion:\n",
    "The Random Forest model successfully predicts diabetic patient readmissions using the dataset’s key features. The model can help healthcare providers identify high-risk patients and take preventive measures to improve care quality and reduce hospital readmission rates.\n",
    "\n",
    "**Future Work:**  \n",
    "- Hyperparameter tuning for improved model performance  \n",
    "- Testing additional algorithms (Logistic Regression, Gradient Boosting, etc.)  \n",
    "- Further feature engineering and analysis  "
   ]
  }
 ],
 "metadata": {},
 "nbformat": 4,
 "nbformat_minor": 5
}