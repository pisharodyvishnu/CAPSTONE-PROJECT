{
 "cells": [
  {
   "cell_type": "markdown",
   "id": "a791e8a1",
   "metadata": {},
   "source": [
    "# 🏥 Capstone Project - Healthcare Domain\n",
    "## Diabetes Readmission Prediction\n",
    "\n",
    "### Student: Vishnu  \n",
    "### Domain: Healthcare  \n",
    "### Project Objective:\n",
    "To predict hospital readmission in diabetic patients using machine learning techniques by analyzing patient demographics, treatment history, and admission details."
   ]
  },
  {
   "cell_type": "code",
   "execution_count": null,
   "id": "d3412db6",
   "metadata": {},
   "outputs": [],
   "source": [
    "import pandas as pd\n",
    "import numpy as np\n",
    "from sklearn.model_selection import train_test_split\n",
    "from sklearn.preprocessing import LabelEncoder\n",
    "from sklearn.ensemble import RandomForestClassifier\n",
    "from sklearn.metrics import classification_report, confusion_matrix\n",
    "import matplotlib.pyplot as plt\n",
    "import seaborn as sns\n",
    "import graphviz\n",
    "import warnings\n",
    "warnings.filterwarnings('ignore')"
   ]
  },
  {
   "cell_type": "markdown",
   "id": "23539b2a",
   "metadata": {},
   "source": [
    "### 📊 Step 1: Data Loading\n",
    "We load the cleaned dataset containing records of diabetic patients including their demographics, diagnoses, treatments, and readmission status."
   ]
  },
  {
   "cell_type": "code",
   "execution_count": null,
   "id": "a9696299",
   "metadata": {},
   "outputs": [],
   "source": [
    "df = pd.read_csv(\"diabetic_data_cleaned.csv\")\n",
    "df.head()"
   ]
  },
  {
   "cell_type": "markdown",
   "id": "02211621",
   "metadata": {},
   "source": [
    "### 📈 Dataset Summary Diagram\n",
    "- Total Rows: `df.shape[0]`\n",
    "- Total Columns: `df.shape[1]`\n",
    "- Sample Columns: 'race', 'age', 'gender', 'admission_type_id', 'diag_1', 'readmitted'"
   ]
  },
  {
   "cell_type": "markdown",
   "id": "963fce56",
   "metadata": {},
   "source": [
    "### 🔤 Step 2: Data Preprocessing - Encoding\n",
    "We encode categorical variables to numeric form using Label Encoding."
   ]
  },
  {
   "cell_type": "code",
   "execution_count": null,
   "id": "3e1b478a",
   "metadata": {},
   "outputs": [],
   "source": [
    "label_encoders = {}\n",
    "for col in df.select_dtypes(include='object').columns:\n",
    "    le = LabelEncoder()\n",
    "    df[col] = le.fit_transform(df[col].astype(str))\n",
    "    label_encoders[col] = le\n",
    "df.head()"
   ]
  },
  {
   "cell_type": "markdown",
   "id": "966d6ea7",
   "metadata": {},
   "source": [
    "### 🧱 Block Diagram of Preprocessing:\n",
    "```\n",
    "Raw Data → Handle Missing Values → Encode Categorical Data → Cleaned Numeric Dataset\n",
    "```"
   ]
  },
  {
   "cell_type": "markdown",
   "id": "0456e908",
   "metadata": {},
   "source": [
    "### 🧪 Step 3: Train-Test Split\n",
    "Splitting the data into training and test sets for model evaluation."
   ]
  },
  {
   "cell_type": "code",
   "execution_count": null,
   "id": "9ec81ecf",
   "metadata": {},
   "outputs": [],
   "source": [
    "X = df.drop(columns=['readmitted', 'readmitted_binary'])\n",
    "y = df['readmitted_binary']\n",
    "X_train, X_test, y_train, y_test = train_test_split(X, y, test_size=0.2, random_state=42)"
   ]
  },
  {
   "cell_type": "markdown",
   "id": "0c0cfd0f",
   "metadata": {},
   "source": [
    "### 🧭 Workflow Diagram:\n",
    "```\n",
    "Cleaned Dataset → Features (X), Target (y) → Train-Test Split\n",
    "```"
   ]
  },
  {
   "cell_type": "markdown",
   "id": "859d26dc",
   "metadata": {},
   "source": [
    "### 🌲 Step 4: Random Forest Classifier\n",
    "We train a Random Forest model to classify whether a patient will be readmitted or not."
   ]
  },
  {
   "cell_type": "code",
   "execution_count": null,
   "id": "b1b55004",
   "metadata": {},
   "outputs": [],
   "source": [
    "rf_model = RandomForestClassifier(n_estimators=100, random_state=42)\n",
    "rf_model.fit(X_train, y_train)"
   ]
  },
  {
   "cell_type": "markdown",
   "id": "63a65bf1",
   "metadata": {},
   "source": [
    "### 📊 Training Process Overview\n",
    "```\n",
    "Training Data → Random Forest Model → Trained Model\n",
    "```"
   ]
  },
  {
   "cell_type": "markdown",
   "id": "f9223b75",
   "metadata": {},
   "source": [
    "### ✅ Step 5: Evaluation and Results\n",
    "We evaluate the model using classification metrics and visualize the confusion matrix."
   ]
  },
  {
   "cell_type": "code",
   "execution_count": null,
   "id": "1b20c8da",
   "metadata": {},
   "outputs": [],
   "source": [
    "y_pred = rf_model.predict(X_test)\n",
    "print(\"Classification Report:\\n\", classification_report(y_test, y_pred))\n",
    "print(\"Confusion Matrix:\\n\", confusion_matrix(y_test, y_pred))"
   ]
  },
  {
   "cell_type": "code",
   "execution_count": null,
   "id": "326cc5aa",
   "metadata": {},
   "outputs": [],
   "source": [
    "cm = confusion_matrix(y_test, y_pred)\n",
    "plt.figure(figsize=(6,4))\n",
    "sns.heatmap(cm, annot=True, fmt='d', cmap='Blues')\n",
    "plt.title(\"Confusion Matrix\")\n",
    "plt.xlabel(\"Predicted\")\n",
    "plt.ylabel(\"Actual\")\n",
    "plt.show()"
   ]
  },
  {
   "cell_type": "markdown",
   "id": "1b7f5ae8",
   "metadata": {},
   "source": [
    "### 📌 Summary Diagram:\n",
    "```\n",
    "Test Data → Predict → Compare with Actual → Evaluation Metrics\n",
    "```"
   ]
  },
  {
   "cell_type": "markdown",
   "id": "444839d8",
   "metadata": {},
   "source": [
    "### 📘 Conclusion:\n",
    "- Random Forest is effective in predicting diabetic patient readmissions.\n",
    "- The model can support hospitals in reducing unnecessary readmissions.\n",
    "\n",
    "**Future Enhancements:**\n",
    "- Try other models (Gradient Boosting, Logistic Regression).\n",
    "- Tune hyperparameters.\n",
    "- Explore deeper feature engineering."
   ]
  }
 ],
 "metadata": {},
 "nbformat": 4,
 "nbformat_minor": 5
}